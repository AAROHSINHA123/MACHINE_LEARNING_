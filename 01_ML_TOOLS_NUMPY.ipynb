{
  "cells": [
    {
      "cell_type": "markdown",
      "metadata": {
        "id": "4B5BebU_wajF"
      },
      "source": [
        "# ***NUMPY***\n",
        "* It's Fast\n",
        "\n",
        "* Behind the scenes optimizations are written in C\n",
        "\n",
        "* Vectorization via broadcasting (avoids loops)\n",
        "\n",
        "* Backbone of other python scientific packages\n"
      ]
    },
    {
      "cell_type": "code",
      "execution_count": null,
      "metadata": {
        "id": "3n5pnAmGulnd"
      },
      "outputs": [],
      "source": [
        "import numpy as np"
      ]
    },
    {
      "cell_type": "markdown",
      "metadata": {
        "id": "ozqYGPoMxUo3"
      },
      "source": [
        "## **1. DataTypes And Attributes**"
      ]
    },
    {
      "cell_type": "code",
      "execution_count": null,
      "metadata": {
        "colab": {
          "base_uri": "https://localhost:8080/"
        },
        "id": "IcDMWadrxaYT",
        "outputId": "3426cfb6-5593-493e-a12b-732a2d1a4eae"
      },
      "outputs": [
        {
          "output_type": "execute_result",
          "data": {
            "text/plain": [
              "array([1, 2, 3])"
            ]
          },
          "metadata": {},
          "execution_count": 2
        }
      ],
      "source": [
        "# Numpy's Main datatype is ndarray\n",
        "\n",
        "# 1D Array\n",
        "a1 = np.array([1, 2, 3])\n",
        "a1"
      ]
    },
    {
      "cell_type": "code",
      "execution_count": null,
      "metadata": {
        "colab": {
          "base_uri": "https://localhost:8080/"
        },
        "id": "890w1uu3xrjL",
        "outputId": "d2b7257f-e612-42a6-937b-9865e9a091e5"
      },
      "outputs": [
        {
          "output_type": "execute_result",
          "data": {
            "text/plain": [
              "numpy.ndarray"
            ]
          },
          "metadata": {},
          "execution_count": 3
        }
      ],
      "source": [
        "type(a1)"
      ]
    },
    {
      "cell_type": "code",
      "execution_count": null,
      "metadata": {
        "id": "T6-ubt86xvNm"
      },
      "outputs": [],
      "source": [
        "# 2D ARRAY\n",
        "a2 = np.array([[1, 2, 3.3],\n",
        "               [4, 5, 6.5]])\n",
        "\n",
        "# 3D ARRAY\n",
        "a3 = np.array([[[1, 2, 3],\n",
        "                [4, 5, 6,],\n",
        "                [7, 8, 9]] ,\n",
        "               [[10, 11, 12],\n",
        "                [13, 14, 15],\n",
        "                [16, 17, 18]]])"
      ]
    },
    {
      "cell_type": "code",
      "execution_count": null,
      "metadata": {
        "colab": {
          "base_uri": "https://localhost:8080/"
        },
        "id": "N26_wGvByULC",
        "outputId": "8ee4c0cc-d739-40c2-d20c-0cf06541a8b1"
      },
      "outputs": [
        {
          "output_type": "execute_result",
          "data": {
            "text/plain": [
              "array([[1. , 2. , 3.3],\n",
              "       [4. , 5. , 6.5]])"
            ]
          },
          "metadata": {},
          "execution_count": 5
        }
      ],
      "source": [
        "a2"
      ]
    },
    {
      "cell_type": "code",
      "execution_count": null,
      "metadata": {
        "colab": {
          "base_uri": "https://localhost:8080/"
        },
        "id": "cEqBS9V5yV48",
        "outputId": "7223b81c-a17d-4fb6-dd4a-4bca236b83e9"
      },
      "outputs": [
        {
          "output_type": "execute_result",
          "data": {
            "text/plain": [
              "array([[[ 1,  2,  3],\n",
              "        [ 4,  5,  6],\n",
              "        [ 7,  8,  9]],\n",
              "\n",
              "       [[10, 11, 12],\n",
              "        [13, 14, 15],\n",
              "        [16, 17, 18]]])"
            ]
          },
          "metadata": {},
          "execution_count": 6
        }
      ],
      "source": [
        "a3"
      ]
    },
    {
      "cell_type": "code",
      "execution_count": null,
      "metadata": {
        "colab": {
          "base_uri": "https://localhost:8080/"
        },
        "id": "1OMKO3hryWgP",
        "outputId": "bb51cddc-e6bc-4fef-9bb4-256b43b9cf67"
      },
      "outputs": [
        {
          "output_type": "stream",
          "name": "stdout",
          "text": [
            "(3,)\n",
            "(2, 3)\n",
            "(2, 3, 3)\n"
          ]
        }
      ],
      "source": [
        "# Checking shapes\n",
        "print(a1.shape)\n",
        "print(a2.shape)\n",
        "print(a3.shape)"
      ]
    },
    {
      "cell_type": "code",
      "execution_count": null,
      "metadata": {
        "colab": {
          "base_uri": "https://localhost:8080/"
        },
        "id": "2VTsP0VHy2S6",
        "outputId": "a2cdd589-e1d5-4600-a2e2-51f2cac8f690"
      },
      "outputs": [
        {
          "output_type": "stream",
          "name": "stdout",
          "text": [
            "1\n",
            "2\n",
            "3\n"
          ]
        }
      ],
      "source": [
        "# Check dimensions\n",
        "print(a1.ndim)\n",
        "print(a2.ndim)\n",
        "print(a3.ndim)"
      ]
    },
    {
      "cell_type": "code",
      "execution_count": null,
      "metadata": {
        "colab": {
          "base_uri": "https://localhost:8080/"
        },
        "id": "_wpsyIhnzFCO",
        "outputId": "0194cde0-464a-4ef0-dc98-fe3b29a17040"
      },
      "outputs": [
        {
          "output_type": "stream",
          "name": "stdout",
          "text": [
            "int64\n",
            "float64\n",
            "int64\n"
          ]
        }
      ],
      "source": [
        "# Check datatypes\n",
        "print(a1.dtype)\n",
        "print(a2.dtype)\n",
        "print(a3.dtype)"
      ]
    },
    {
      "cell_type": "code",
      "execution_count": null,
      "metadata": {
        "colab": {
          "base_uri": "https://localhost:8080/"
        },
        "id": "ORShfNYAzUCF",
        "outputId": "792ae8c0-76a2-431e-8a44-757f2cb66d14"
      },
      "outputs": [
        {
          "output_type": "stream",
          "name": "stdout",
          "text": [
            "3\n",
            "6\n",
            "18\n"
          ]
        }
      ],
      "source": [
        "# Check size\n",
        "print(a1.size)\n",
        "print(a2.size)\n",
        "print(a3.size)"
      ]
    },
    {
      "cell_type": "markdown",
      "metadata": {
        "id": "Uu4FyPwRz1Yy"
      },
      "source": [
        "# ***CREATE A DATAFRAME FROM NUMPY***"
      ]
    },
    {
      "cell_type": "code",
      "execution_count": null,
      "metadata": {
        "colab": {
          "base_uri": "https://localhost:8080/",
          "height": 112
        },
        "id": "Mcxe5LJazZtU",
        "outputId": "092e3e31-0d1e-49e9-f480-68948310bb53"
      },
      "outputs": [
        {
          "output_type": "execute_result",
          "data": {
            "text/plain": [
              "     0    1    2\n",
              "0  1.0  2.0  3.3\n",
              "1  4.0  5.0  6.5"
            ],
            "text/html": [
              "\n",
              "  <div id=\"df-7cf1af78-8757-4f19-a92b-8ea7e174fd63\" class=\"colab-df-container\">\n",
              "    <div>\n",
              "<style scoped>\n",
              "    .dataframe tbody tr th:only-of-type {\n",
              "        vertical-align: middle;\n",
              "    }\n",
              "\n",
              "    .dataframe tbody tr th {\n",
              "        vertical-align: top;\n",
              "    }\n",
              "\n",
              "    .dataframe thead th {\n",
              "        text-align: right;\n",
              "    }\n",
              "</style>\n",
              "<table border=\"1\" class=\"dataframe\">\n",
              "  <thead>\n",
              "    <tr style=\"text-align: right;\">\n",
              "      <th></th>\n",
              "      <th>0</th>\n",
              "      <th>1</th>\n",
              "      <th>2</th>\n",
              "    </tr>\n",
              "  </thead>\n",
              "  <tbody>\n",
              "    <tr>\n",
              "      <th>0</th>\n",
              "      <td>1.0</td>\n",
              "      <td>2.0</td>\n",
              "      <td>3.3</td>\n",
              "    </tr>\n",
              "    <tr>\n",
              "      <th>1</th>\n",
              "      <td>4.0</td>\n",
              "      <td>5.0</td>\n",
              "      <td>6.5</td>\n",
              "    </tr>\n",
              "  </tbody>\n",
              "</table>\n",
              "</div>\n",
              "    <div class=\"colab-df-buttons\">\n",
              "\n",
              "  <div class=\"colab-df-container\">\n",
              "    <button class=\"colab-df-convert\" onclick=\"convertToInteractive('df-7cf1af78-8757-4f19-a92b-8ea7e174fd63')\"\n",
              "            title=\"Convert this dataframe to an interactive table.\"\n",
              "            style=\"display:none;\">\n",
              "\n",
              "  <svg xmlns=\"http://www.w3.org/2000/svg\" height=\"24px\" viewBox=\"0 -960 960 960\">\n",
              "    <path d=\"M120-120v-720h720v720H120Zm60-500h600v-160H180v160Zm220 220h160v-160H400v160Zm0 220h160v-160H400v160ZM180-400h160v-160H180v160Zm440 0h160v-160H620v160ZM180-180h160v-160H180v160Zm440 0h160v-160H620v160Z\"/>\n",
              "  </svg>\n",
              "    </button>\n",
              "\n",
              "  <style>\n",
              "    .colab-df-container {\n",
              "      display:flex;\n",
              "      gap: 12px;\n",
              "    }\n",
              "\n",
              "    .colab-df-convert {\n",
              "      background-color: #E8F0FE;\n",
              "      border: none;\n",
              "      border-radius: 50%;\n",
              "      cursor: pointer;\n",
              "      display: none;\n",
              "      fill: #1967D2;\n",
              "      height: 32px;\n",
              "      padding: 0 0 0 0;\n",
              "      width: 32px;\n",
              "    }\n",
              "\n",
              "    .colab-df-convert:hover {\n",
              "      background-color: #E2EBFA;\n",
              "      box-shadow: 0px 1px 2px rgba(60, 64, 67, 0.3), 0px 1px 3px 1px rgba(60, 64, 67, 0.15);\n",
              "      fill: #174EA6;\n",
              "    }\n",
              "\n",
              "    .colab-df-buttons div {\n",
              "      margin-bottom: 4px;\n",
              "    }\n",
              "\n",
              "    [theme=dark] .colab-df-convert {\n",
              "      background-color: #3B4455;\n",
              "      fill: #D2E3FC;\n",
              "    }\n",
              "\n",
              "    [theme=dark] .colab-df-convert:hover {\n",
              "      background-color: #434B5C;\n",
              "      box-shadow: 0px 1px 3px 1px rgba(0, 0, 0, 0.15);\n",
              "      filter: drop-shadow(0px 1px 2px rgba(0, 0, 0, 0.3));\n",
              "      fill: #FFFFFF;\n",
              "    }\n",
              "  </style>\n",
              "\n",
              "    <script>\n",
              "      const buttonEl =\n",
              "        document.querySelector('#df-7cf1af78-8757-4f19-a92b-8ea7e174fd63 button.colab-df-convert');\n",
              "      buttonEl.style.display =\n",
              "        google.colab.kernel.accessAllowed ? 'block' : 'none';\n",
              "\n",
              "      async function convertToInteractive(key) {\n",
              "        const element = document.querySelector('#df-7cf1af78-8757-4f19-a92b-8ea7e174fd63');\n",
              "        const dataTable =\n",
              "          await google.colab.kernel.invokeFunction('convertToInteractive',\n",
              "                                                    [key], {});\n",
              "        if (!dataTable) return;\n",
              "\n",
              "        const docLinkHtml = 'Like what you see? Visit the ' +\n",
              "          '<a target=\"_blank\" href=https://colab.research.google.com/notebooks/data_table.ipynb>data table notebook</a>'\n",
              "          + ' to learn more about interactive tables.';\n",
              "        element.innerHTML = '';\n",
              "        dataTable['output_type'] = 'display_data';\n",
              "        await google.colab.output.renderOutput(dataTable, element);\n",
              "        const docLink = document.createElement('div');\n",
              "        docLink.innerHTML = docLinkHtml;\n",
              "        element.appendChild(docLink);\n",
              "      }\n",
              "    </script>\n",
              "  </div>\n",
              "\n",
              "\n",
              "<div id=\"df-6a88e8e6-8942-414a-a65e-d4bd26e94965\">\n",
              "  <button class=\"colab-df-quickchart\" onclick=\"quickchart('df-6a88e8e6-8942-414a-a65e-d4bd26e94965')\"\n",
              "            title=\"Suggest charts\"\n",
              "            style=\"display:none;\">\n",
              "\n",
              "<svg xmlns=\"http://www.w3.org/2000/svg\" height=\"24px\"viewBox=\"0 0 24 24\"\n",
              "     width=\"24px\">\n",
              "    <g>\n",
              "        <path d=\"M19 3H5c-1.1 0-2 .9-2 2v14c0 1.1.9 2 2 2h14c1.1 0 2-.9 2-2V5c0-1.1-.9-2-2-2zM9 17H7v-7h2v7zm4 0h-2V7h2v10zm4 0h-2v-4h2v4z\"/>\n",
              "    </g>\n",
              "</svg>\n",
              "  </button>\n",
              "\n",
              "<style>\n",
              "  .colab-df-quickchart {\n",
              "      --bg-color: #E8F0FE;\n",
              "      --fill-color: #1967D2;\n",
              "      --hover-bg-color: #E2EBFA;\n",
              "      --hover-fill-color: #174EA6;\n",
              "      --disabled-fill-color: #AAA;\n",
              "      --disabled-bg-color: #DDD;\n",
              "  }\n",
              "\n",
              "  [theme=dark] .colab-df-quickchart {\n",
              "      --bg-color: #3B4455;\n",
              "      --fill-color: #D2E3FC;\n",
              "      --hover-bg-color: #434B5C;\n",
              "      --hover-fill-color: #FFFFFF;\n",
              "      --disabled-bg-color: #3B4455;\n",
              "      --disabled-fill-color: #666;\n",
              "  }\n",
              "\n",
              "  .colab-df-quickchart {\n",
              "    background-color: var(--bg-color);\n",
              "    border: none;\n",
              "    border-radius: 50%;\n",
              "    cursor: pointer;\n",
              "    display: none;\n",
              "    fill: var(--fill-color);\n",
              "    height: 32px;\n",
              "    padding: 0;\n",
              "    width: 32px;\n",
              "  }\n",
              "\n",
              "  .colab-df-quickchart:hover {\n",
              "    background-color: var(--hover-bg-color);\n",
              "    box-shadow: 0 1px 2px rgba(60, 64, 67, 0.3), 0 1px 3px 1px rgba(60, 64, 67, 0.15);\n",
              "    fill: var(--button-hover-fill-color);\n",
              "  }\n",
              "\n",
              "  .colab-df-quickchart-complete:disabled,\n",
              "  .colab-df-quickchart-complete:disabled:hover {\n",
              "    background-color: var(--disabled-bg-color);\n",
              "    fill: var(--disabled-fill-color);\n",
              "    box-shadow: none;\n",
              "  }\n",
              "\n",
              "  .colab-df-spinner {\n",
              "    border: 2px solid var(--fill-color);\n",
              "    border-color: transparent;\n",
              "    border-bottom-color: var(--fill-color);\n",
              "    animation:\n",
              "      spin 1s steps(1) infinite;\n",
              "  }\n",
              "\n",
              "  @keyframes spin {\n",
              "    0% {\n",
              "      border-color: transparent;\n",
              "      border-bottom-color: var(--fill-color);\n",
              "      border-left-color: var(--fill-color);\n",
              "    }\n",
              "    20% {\n",
              "      border-color: transparent;\n",
              "      border-left-color: var(--fill-color);\n",
              "      border-top-color: var(--fill-color);\n",
              "    }\n",
              "    30% {\n",
              "      border-color: transparent;\n",
              "      border-left-color: var(--fill-color);\n",
              "      border-top-color: var(--fill-color);\n",
              "      border-right-color: var(--fill-color);\n",
              "    }\n",
              "    40% {\n",
              "      border-color: transparent;\n",
              "      border-right-color: var(--fill-color);\n",
              "      border-top-color: var(--fill-color);\n",
              "    }\n",
              "    60% {\n",
              "      border-color: transparent;\n",
              "      border-right-color: var(--fill-color);\n",
              "    }\n",
              "    80% {\n",
              "      border-color: transparent;\n",
              "      border-right-color: var(--fill-color);\n",
              "      border-bottom-color: var(--fill-color);\n",
              "    }\n",
              "    90% {\n",
              "      border-color: transparent;\n",
              "      border-bottom-color: var(--fill-color);\n",
              "    }\n",
              "  }\n",
              "</style>\n",
              "\n",
              "  <script>\n",
              "    async function quickchart(key) {\n",
              "      const quickchartButtonEl =\n",
              "        document.querySelector('#' + key + ' button');\n",
              "      quickchartButtonEl.disabled = true;  // To prevent multiple clicks.\n",
              "      quickchartButtonEl.classList.add('colab-df-spinner');\n",
              "      try {\n",
              "        const charts = await google.colab.kernel.invokeFunction(\n",
              "            'suggestCharts', [key], {});\n",
              "      } catch (error) {\n",
              "        console.error('Error during call to suggestCharts:', error);\n",
              "      }\n",
              "      quickchartButtonEl.classList.remove('colab-df-spinner');\n",
              "      quickchartButtonEl.classList.add('colab-df-quickchart-complete');\n",
              "    }\n",
              "    (() => {\n",
              "      let quickchartButtonEl =\n",
              "        document.querySelector('#df-6a88e8e6-8942-414a-a65e-d4bd26e94965 button');\n",
              "      quickchartButtonEl.style.display =\n",
              "        google.colab.kernel.accessAllowed ? 'block' : 'none';\n",
              "    })();\n",
              "  </script>\n",
              "</div>\n",
              "    </div>\n",
              "  </div>\n"
            ],
            "application/vnd.google.colaboratory.intrinsic+json": {
              "type": "dataframe",
              "variable_name": "df",
              "summary": "{\n  \"name\": \"df\",\n  \"rows\": 2,\n  \"fields\": [\n    {\n      \"column\": 0,\n      \"properties\": {\n        \"dtype\": \"number\",\n        \"std\": 2.1213203435596424,\n        \"min\": 1.0,\n        \"max\": 4.0,\n        \"num_unique_values\": 2,\n        \"samples\": [\n          4.0,\n          1.0\n        ],\n        \"semantic_type\": \"\",\n        \"description\": \"\"\n      }\n    },\n    {\n      \"column\": 1,\n      \"properties\": {\n        \"dtype\": \"number\",\n        \"std\": 2.1213203435596424,\n        \"min\": 2.0,\n        \"max\": 5.0,\n        \"num_unique_values\": 2,\n        \"samples\": [\n          5.0,\n          2.0\n        ],\n        \"semantic_type\": \"\",\n        \"description\": \"\"\n      }\n    },\n    {\n      \"column\": 2,\n      \"properties\": {\n        \"dtype\": \"number\",\n        \"std\": 2.2627416997969525,\n        \"min\": 3.3,\n        \"max\": 6.5,\n        \"num_unique_values\": 2,\n        \"samples\": [\n          6.5,\n          3.3\n        ],\n        \"semantic_type\": \"\",\n        \"description\": \"\"\n      }\n    }\n  ]\n}"
            }
          },
          "metadata": {},
          "execution_count": 11
        }
      ],
      "source": [
        "import pandas as pd\n",
        "\n",
        "df = pd.DataFrame(a2)\n",
        "df.head()"
      ]
    },
    {
      "cell_type": "markdown",
      "metadata": {
        "id": "UDcLHvPrzx7Q"
      },
      "source": [
        "## ***TRYING TO MAKE A 4D ARRAY***"
      ]
    },
    {
      "cell_type": "code",
      "execution_count": null,
      "metadata": {
        "colab": {
          "base_uri": "https://localhost:8080/"
        },
        "id": "3CLlIWsD0G1l",
        "outputId": "22237020-55ab-404f-c170-0673db4a2939"
      },
      "outputs": [
        {
          "output_type": "stream",
          "name": "stdout",
          "text": [
            "(1, 4, 2, 4)\n",
            "4\n"
          ]
        }
      ],
      "source": [
        "array_4d = np.array(\n",
        "    [[[[1, 2, 3, 4],\n",
        "       [5, 6, 7, 8]],\n",
        "\n",
        "      [[9, 10, 11, 12],\n",
        "       [13, 14, 15, 16]],\n",
        "\n",
        "      [[17, 18, 19, 20],\n",
        "       [21, 22, 23, 24]],\n",
        "\n",
        "      [[25, 26, 27, 28],\n",
        "       [29, 30, 31, 32]]\n",
        "\n",
        "      ]]\n",
        ")\n",
        "\n",
        "print(array_4d.shape)\n",
        "print(array_4d.ndim)"
      ]
    },
    {
      "cell_type": "markdown",
      "metadata": {
        "id": "3gxnPSTp0l7G"
      },
      "source": [
        "## ***2.CREATING MORE ARRAYS***"
      ]
    },
    {
      "cell_type": "markdown",
      "metadata": {
        "id": "srl_kbhn16vI"
      },
      "source": [
        "## **1. np.ones**"
      ]
    },
    {
      "cell_type": "code",
      "execution_count": null,
      "metadata": {
        "colab": {
          "base_uri": "https://localhost:8080/"
        },
        "id": "f4HNbxgR054j",
        "outputId": "ef857a6a-dae4-4a90-9f27-ee6b9bbf9bcf"
      },
      "outputs": [
        {
          "output_type": "execute_result",
          "data": {
            "text/plain": [
              "array([[1., 1., 1.],\n",
              "       [1., 1., 1.]])"
            ]
          },
          "metadata": {},
          "execution_count": 13
        }
      ],
      "source": [
        "# CREATING AN ARRAY ONE ONLY ONES\n",
        "ones = np.ones(shape = (2, 3))\n",
        "ones"
      ]
    },
    {
      "cell_type": "code",
      "execution_count": null,
      "metadata": {
        "colab": {
          "base_uri": "https://localhost:8080/"
        },
        "id": "UsUC3EhW1WDC",
        "outputId": "a37d0b62-9916-42af-fb1f-a962a0aa325d"
      },
      "outputs": [
        {
          "output_type": "execute_result",
          "data": {
            "text/plain": [
              "dtype('float64')"
            ]
          },
          "metadata": {},
          "execution_count": 14
        }
      ],
      "source": [
        "ones.dtype"
      ]
    },
    {
      "cell_type": "code",
      "execution_count": null,
      "metadata": {
        "colab": {
          "base_uri": "https://localhost:8080/"
        },
        "id": "vjrz17fT1aGI",
        "outputId": "aaae4d51-30bc-4c76-afe1-363483e96c89"
      },
      "outputs": [
        {
          "output_type": "execute_result",
          "data": {
            "text/plain": [
              "array([[1, 1, 1],\n",
              "       [1, 1, 1],\n",
              "       [1, 1, 1]])"
            ]
          },
          "metadata": {},
          "execution_count": 15
        }
      ],
      "source": [
        "## DEFAULT DATATYPE FOR ONES IN FLOAT\n",
        "## LET'S TRY CREATING ONE WITH INT\n",
        "ones_int = np.ones(shape=(3, 3), dtype = int)\n",
        "ones_int"
      ]
    },
    {
      "cell_type": "code",
      "execution_count": null,
      "metadata": {
        "colab": {
          "base_uri": "https://localhost:8080/"
        },
        "id": "XY7JY50G1lqL",
        "outputId": "c8b5f880-0113-409f-869b-1ea451041234"
      },
      "outputs": [
        {
          "output_type": "execute_result",
          "data": {
            "text/plain": [
              "array([['1', '1', '1'],\n",
              "       ['1', '1', '1'],\n",
              "       ['1', '1', '1']], dtype='<U1')"
            ]
          },
          "metadata": {},
          "execution_count": 16
        }
      ],
      "source": [
        "## CREATING ONES WITH STRING\n",
        "ones_string = np.ones(shape=(3, 3),dtype=str)\n",
        "ones_string"
      ]
    },
    {
      "cell_type": "code",
      "execution_count": null,
      "metadata": {
        "colab": {
          "base_uri": "https://localhost:8080/"
        },
        "id": "v4o2o2fN1tKR",
        "outputId": "d409fb81-8cab-476f-da24-e071fbe3d1d5"
      },
      "outputs": [
        {
          "output_type": "execute_result",
          "data": {
            "text/plain": [
              "array([[ True,  True,  True],\n",
              "       [ True,  True,  True],\n",
              "       [ True,  True,  True]])"
            ]
          },
          "metadata": {},
          "execution_count": 17
        }
      ],
      "source": [
        "## CREATING ONES WITH BOOL\n",
        "ones_bool = np.ones(shape=(3, 3), dtype = bool)\n",
        "ones_bool"
      ]
    },
    {
      "cell_type": "markdown",
      "metadata": {
        "id": "3BzYNGij1-G-"
      },
      "source": [
        "##  **2. np.zeros**"
      ]
    },
    {
      "cell_type": "code",
      "execution_count": null,
      "metadata": {
        "colab": {
          "base_uri": "https://localhost:8080/"
        },
        "id": "5r0d2tib15Ce",
        "outputId": "1dfe3cc4-4a41-41bd-a4e3-7d3c01673629"
      },
      "outputs": [
        {
          "output_type": "execute_result",
          "data": {
            "text/plain": [
              "array([[0., 0., 0.],\n",
              "       [0., 0., 0.],\n",
              "       [0., 0., 0.]])"
            ]
          },
          "metadata": {},
          "execution_count": 18
        }
      ],
      "source": [
        "zeros = np.zeros(shape = (3, 3))\n",
        "zeros"
      ]
    },
    {
      "cell_type": "markdown",
      "metadata": {
        "id": "7RT-yVaA2O_e"
      },
      "source": [
        "## **3. np.arange**"
      ]
    },
    {
      "cell_type": "code",
      "execution_count": null,
      "metadata": {
        "colab": {
          "base_uri": "https://localhost:8080/"
        },
        "id": "hf32SY8S2TuM",
        "outputId": "745ef5e0-c328-4cb8-aa49-4b8d15c859e9"
      },
      "outputs": [
        {
          "output_type": "execute_result",
          "data": {
            "text/plain": [
              "array([ 0,  4,  8, 12, 16, 20])"
            ]
          },
          "metadata": {},
          "execution_count": 19
        }
      ],
      "source": [
        "## Return values in a given range of interval from start -- stop\n",
        "range_array = np.arange(start = 0, stop = 21, step = 4, dtype = int)\n",
        "range_array"
      ]
    },
    {
      "cell_type": "markdown",
      "metadata": {
        "id": "pHhe4ZNb2rYg"
      },
      "source": [
        "## **4. random arrays**"
      ]
    },
    {
      "cell_type": "code",
      "execution_count": null,
      "metadata": {
        "colab": {
          "base_uri": "https://localhost:8080/"
        },
        "id": "69TEDU2b241B",
        "outputId": "8fbff5d6-0677-4a64-fccb-4b18da6aa979"
      },
      "outputs": [
        {
          "output_type": "execute_result",
          "data": {
            "text/plain": [
              "array([[4, 9, 6, 6, 7],\n",
              "       [7, 1, 6, 3, 1],\n",
              "       [9, 9, 5, 1, 7]])"
            ]
          },
          "metadata": {},
          "execution_count": 20
        }
      ],
      "source": [
        "## return random integers from low (inclusive) to high (exclusive) in the interval\n",
        "random_array = np.random.randint(low = 0, high= 10, size = (3, 5))\n",
        "random_array"
      ]
    },
    {
      "cell_type": "code",
      "execution_count": null,
      "metadata": {
        "colab": {
          "base_uri": "https://localhost:8080/"
        },
        "id": "HZXAJoKG3MMT",
        "outputId": "66e87174-044d-4a9f-b186-ccae2c700cf3"
      },
      "outputs": [
        {
          "output_type": "stream",
          "name": "stdout",
          "text": [
            "15\n",
            "(3, 5)\n",
            "2\n"
          ]
        }
      ],
      "source": [
        "print(random_array.size)\n",
        "print(random_array.shape)\n",
        "print(random_array.ndim)"
      ]
    },
    {
      "cell_type": "code",
      "execution_count": null,
      "metadata": {
        "colab": {
          "base_uri": "https://localhost:8080/"
        },
        "id": "2jWovMNp3ZX9",
        "outputId": "06bdb3ec-0b82-48f4-ac28-08258129a1da"
      },
      "outputs": [
        {
          "output_type": "execute_result",
          "data": {
            "text/plain": [
              "array([[0.40176313, 0.31431903, 0.60774705, 0.21089647, 0.6585838 ],\n",
              "       [0.7974121 , 0.1634008 , 0.49895279, 0.76569059, 0.90911508],\n",
              "       [0.59794694, 0.91925998, 0.66861539, 0.20170932, 0.8700644 ]])"
            ]
          },
          "metadata": {},
          "execution_count": 22
        }
      ],
      "source": [
        "## RETURN RANDOM FLOATS IN INTERVAL 0,1\n",
        "random_array_new = np.random.random((3, 5))\n",
        "random_array_new"
      ]
    },
    {
      "cell_type": "code",
      "execution_count": null,
      "metadata": {
        "colab": {
          "base_uri": "https://localhost:8080/"
        },
        "id": "acyC015t3jHj",
        "outputId": "f096e562-d55e-4c27-e434-4b2bfd47aca4"
      },
      "outputs": [
        {
          "output_type": "execute_result",
          "data": {
            "text/plain": [
              "array([[0.89805311, 0.91292204, 0.91934754],\n",
              "       [0.26369118, 0.65238862, 0.67927784],\n",
              "       [0.97617856, 0.26023791, 0.34173385],\n",
              "       [0.20653156, 0.38264724, 0.92064041],\n",
              "       [0.99164751, 0.0827571 , 0.11414466]])"
            ]
          },
          "metadata": {},
          "execution_count": 23
        }
      ],
      "source": [
        "## return value in given shape\n",
        "random_array_3 = np.random.rand(5, 3)\n",
        "random_array_3"
      ]
    },
    {
      "cell_type": "markdown",
      "metadata": {
        "id": "r8RWzcmN322y"
      },
      "source": [
        "**NOTE -** When numpy generates random_numbers, they are actually PSEUDO RANDOM NUMBERS"
      ]
    },
    {
      "cell_type": "code",
      "execution_count": null,
      "metadata": {
        "colab": {
          "base_uri": "https://localhost:8080/"
        },
        "id": "REljkMb43xFC",
        "outputId": "7e4aee73-f7fc-48e9-a5f3-6e8e6f0087ee"
      },
      "outputs": [
        {
          "output_type": "execute_result",
          "data": {
            "text/plain": [
              "array([[[43, 96, 18],\n",
              "        [ 0, 34, 88],\n",
              "        [35,  9, 64]],\n",
              "\n",
              "       [[50, 56, 76],\n",
              "        [69, 69, 49],\n",
              "        [14, 58, 65]]])"
            ]
          },
          "metadata": {},
          "execution_count": 24
        }
      ],
      "source": [
        "r1 = np.random.randint(low = 0, high = 101, size = (2, 3, 3))\n",
        "r1"
      ]
    },
    {
      "cell_type": "code",
      "execution_count": null,
      "metadata": {
        "id": "9RLvU1G24Ilh"
      },
      "outputs": [],
      "source": [
        "# Pseudo-random numbers\n",
        "# np.random.seed()"
      ]
    },
    {
      "cell_type": "markdown",
      "metadata": {
        "id": "d7sNfqTD5k2B"
      },
      "source": [
        "Random seed means reproducible random numbers. Means same set of random numbers get set everytime."
      ]
    },
    {
      "cell_type": "code",
      "execution_count": null,
      "metadata": {
        "colab": {
          "base_uri": "https://localhost:8080/"
        },
        "id": "9FrxFshk47Zo",
        "outputId": "c444450e-6f0a-4c7e-cc9b-96a61895ac2f"
      },
      "outputs": [
        {
          "output_type": "execute_result",
          "data": {
            "text/plain": [
              "array([[144, 147, 164],\n",
              "       [167, 167, 109]])"
            ]
          },
          "metadata": {},
          "execution_count": 26
        }
      ],
      "source": [
        "np.random.seed(0)\n",
        "random_arr_Seed = np.random.randint(100, 200, size = (2,3))\n",
        "random_arr_Seed"
      ]
    },
    {
      "cell_type": "code",
      "execution_count": null,
      "metadata": {
        "colab": {
          "base_uri": "https://localhost:8080/"
        },
        "id": "QABJ1v4s5fk3",
        "outputId": "5731b383-a66c-4bcb-c0f6-e15705314841"
      },
      "outputs": [
        {
          "output_type": "execute_result",
          "data": {
            "text/plain": [
              "array([[195, 111, 181],\n",
              "       [170, 163, 187]])"
            ]
          },
          "metadata": {},
          "execution_count": 27
        }
      ],
      "source": [
        "np.random.seed(101)\n",
        "random_arr_Seed2 = np.random.randint(100, 200, size = (2, 3))\n",
        "random_arr_Seed2"
      ]
    },
    {
      "cell_type": "markdown",
      "metadata": {
        "id": "EptTb-Aw7Ezx"
      },
      "source": [
        "### **1. FINDING UNIQUE NUMBERS**"
      ]
    },
    {
      "cell_type": "code",
      "execution_count": null,
      "metadata": {
        "colab": {
          "base_uri": "https://localhost:8080/"
        },
        "id": "pV7_dFVP7Ec8",
        "outputId": "4b5023fa-8d73-431a-f983-cc3fce6b479b"
      },
      "outputs": [
        {
          "output_type": "execute_result",
          "data": {
            "text/plain": [
              "array([1, 2, 3])"
            ]
          },
          "metadata": {},
          "execution_count": 28
        }
      ],
      "source": [
        "array_ex = np.array([1, 1, 2, 2, 3, 3])\n",
        "np.unique(array_ex)"
      ]
    },
    {
      "cell_type": "markdown",
      "metadata": {
        "id": "ZM5HQjuh5xl4"
      },
      "source": [
        "## ***3. VIEWING ARRAYS AND MATRICES***"
      ]
    },
    {
      "cell_type": "markdown",
      "metadata": {
        "id": "XI_thAku8KSL"
      },
      "source": [
        "### ***1. INDEXING***"
      ]
    },
    {
      "cell_type": "code",
      "execution_count": null,
      "metadata": {
        "colab": {
          "base_uri": "https://localhost:8080/"
        },
        "id": "i8tzgbVV6_sk",
        "outputId": "b74c8e0c-6f0d-4f55-d09a-9cee08c2dc99"
      },
      "outputs": [
        {
          "output_type": "execute_result",
          "data": {
            "text/plain": [
              "1"
            ]
          },
          "metadata": {},
          "execution_count": 29
        }
      ],
      "source": [
        "arr1 = np.array([1, 2, 3, 4, 5])\n",
        "arr1[0]"
      ]
    },
    {
      "cell_type": "code",
      "execution_count": null,
      "metadata": {
        "id": "K6bXPk2R7XxQ"
      },
      "outputs": [],
      "source": [
        "# 2D ARRAY\n",
        "arr2 = np.array([[1, 2, 3.3],\n",
        "               [4, 5, 6.5]])\n",
        "\n",
        "# 3D ARRAY\n",
        "arr3 = np.array([[[1, 2, 3],\n",
        "                [4, 5, 6,],\n",
        "                [7, 8, 9]] ,\n",
        "               [[10, 11, 12],\n",
        "                [13, 14, 15],\n",
        "                [16, 17, 18]]])"
      ]
    },
    {
      "cell_type": "code",
      "execution_count": null,
      "metadata": {
        "colab": {
          "base_uri": "https://localhost:8080/"
        },
        "id": "fvJrIumQ7d62",
        "outputId": "5996d13c-b6c9-4cb3-d6d3-643326da2e46"
      },
      "outputs": [
        {
          "output_type": "execute_result",
          "data": {
            "text/plain": [
              "array([1. , 2. , 3.3])"
            ]
          },
          "metadata": {},
          "execution_count": 31
        }
      ],
      "source": [
        "arr2[0] # Gives the first row"
      ]
    },
    {
      "cell_type": "code",
      "execution_count": null,
      "metadata": {
        "colab": {
          "base_uri": "https://localhost:8080/"
        },
        "id": "aBa6c3sp7g-J",
        "outputId": "1aa5aa6f-3663-4954-9e6a-720ec35b7263"
      },
      "outputs": [
        {
          "output_type": "execute_result",
          "data": {
            "text/plain": [
              "1.0"
            ]
          },
          "metadata": {},
          "execution_count": 32
        }
      ],
      "source": [
        "arr2[0][0] # First element of first row"
      ]
    },
    {
      "cell_type": "code",
      "execution_count": null,
      "metadata": {
        "colab": {
          "base_uri": "https://localhost:8080/"
        },
        "id": "YDXuihsf7-Wr",
        "outputId": "5cca0e2a-493e-475b-f54c-2ffc12704d58"
      },
      "outputs": [
        {
          "output_type": "execute_result",
          "data": {
            "text/plain": [
              "10"
            ]
          },
          "metadata": {},
          "execution_count": 33
        }
      ],
      "source": [
        "arr3[1][0][0] # First element of first row of 2nd bada row"
      ]
    },
    {
      "cell_type": "markdown",
      "metadata": {
        "id": "Y3rh6ZRu8OOJ"
      },
      "source": [
        "### ***2. SLICING***"
      ]
    },
    {
      "cell_type": "code",
      "execution_count": null,
      "metadata": {
        "colab": {
          "base_uri": "https://localhost:8080/"
        },
        "id": "tHkoXjd18ILg",
        "outputId": "eca785b4-9ae1-4086-9d75-c36dbdf8dce3"
      },
      "outputs": [
        {
          "output_type": "execute_result",
          "data": {
            "text/plain": [
              "array([[[ 1,  2],\n",
              "        [ 4,  5]],\n",
              "\n",
              "       [[10, 11],\n",
              "        [13, 14]]])"
            ]
          },
          "metadata": {},
          "execution_count": 34
        }
      ],
      "source": [
        "arr3[:2, :2, :2] # First 2 values of each, array, row, column"
      ]
    },
    {
      "cell_type": "code",
      "execution_count": null,
      "metadata": {
        "colab": {
          "base_uri": "https://localhost:8080/"
        },
        "id": "sOXFLxmI8cr3",
        "outputId": "1baf3537-326c-4e3e-bf4c-d620c8c80c32"
      },
      "outputs": [
        {
          "output_type": "execute_result",
          "data": {
            "text/plain": [
              "array([[[[9, 8, 4, 8, 5],\n",
              "         [0, 5, 8, 1, 3],\n",
              "         [8, 3, 3, 2, 8],\n",
              "         [9, 3, 7, 0, 9]],\n",
              "\n",
              "        [[7, 9, 8, 4, 3],\n",
              "         [3, 7, 4, 8, 7],\n",
              "         [6, 9, 4, 2, 7],\n",
              "         [7, 7, 0, 4, 1]],\n",
              "\n",
              "        [[8, 3, 1, 8, 4],\n",
              "         [3, 2, 3, 3, 7],\n",
              "         [4, 8, 6, 3, 7],\n",
              "         [6, 5, 6, 9, 2]]],\n",
              "\n",
              "\n",
              "       [[[2, 1, 3, 3, 3],\n",
              "         [4, 5, 9, 5, 8],\n",
              "         [3, 6, 8, 7, 5],\n",
              "         [7, 5, 4, 4, 7]],\n",
              "\n",
              "        [[3, 2, 3, 2, 9],\n",
              "         [3, 5, 6, 6, 5],\n",
              "         [5, 1, 7, 4, 7],\n",
              "         [4, 5, 1, 6, 9]],\n",
              "\n",
              "        [[2, 6, 3, 8, 1],\n",
              "         [7, 4, 1, 8, 4],\n",
              "         [0, 4, 2, 5, 8],\n",
              "         [1, 8, 4, 6, 9]]]])"
            ]
          },
          "metadata": {},
          "execution_count": 35
        }
      ],
      "source": [
        "arr4 = np.random.randint(10, size = (2, 3, 4, 5))\n",
        "arr4"
      ]
    },
    {
      "cell_type": "code",
      "execution_count": null,
      "metadata": {
        "colab": {
          "base_uri": "https://localhost:8080/"
        },
        "id": "H11m87jQ8xnb",
        "outputId": "88394759-88fc-4dc8-e074-efa57a84da3f"
      },
      "outputs": [
        {
          "output_type": "execute_result",
          "data": {
            "text/plain": [
              "((2, 3, 4, 5), 4)"
            ]
          },
          "metadata": {},
          "execution_count": 36
        }
      ],
      "source": [
        "arr4.shape, arr4.ndim"
      ]
    },
    {
      "cell_type": "code",
      "execution_count": null,
      "metadata": {
        "colab": {
          "base_uri": "https://localhost:8080/"
        },
        "id": "5ZolF_cy85Xz",
        "outputId": "ffbf87a7-74c1-406a-9d18-c7e80a68b038"
      },
      "outputs": [
        {
          "output_type": "execute_result",
          "data": {
            "text/plain": [
              "array([2, 1, 3, 3])"
            ]
          },
          "metadata": {},
          "execution_count": 37
        }
      ],
      "source": [
        "## CHALLENGE --> GET THE FIRST 4 NUMBERS AT LINE13 -> 2, 1, 3, 3\n",
        "arr4[1][0][0][:4]"
      ]
    },
    {
      "cell_type": "code",
      "execution_count": null,
      "metadata": {
        "colab": {
          "base_uri": "https://localhost:8080/"
        },
        "id": "oWD3fkDR9HkI",
        "outputId": "d44f9279-7e78-44ee-9103-4958468eab05"
      },
      "outputs": [
        {
          "output_type": "execute_result",
          "data": {
            "text/plain": [
              "array([[[[9],\n",
              "         [0],\n",
              "         [8],\n",
              "         [9]],\n",
              "\n",
              "        [[7],\n",
              "         [3],\n",
              "         [6],\n",
              "         [7]],\n",
              "\n",
              "        [[8],\n",
              "         [3],\n",
              "         [4],\n",
              "         [6]]],\n",
              "\n",
              "\n",
              "       [[[2],\n",
              "         [4],\n",
              "         [3],\n",
              "         [7]],\n",
              "\n",
              "        [[3],\n",
              "         [3],\n",
              "         [5],\n",
              "         [4]],\n",
              "\n",
              "        [[2],\n",
              "         [7],\n",
              "         [0],\n",
              "         [1]]]])"
            ]
          },
          "metadata": {},
          "execution_count": 38
        }
      ],
      "source": [
        "# Get first 4 numbers of inntermost arrays\n",
        "arr4[:,:,:,:1]"
      ]
    },
    {
      "cell_type": "markdown",
      "metadata": {
        "id": "JtghRN6K9VVk"
      },
      "source": [
        "## ***4. MANIPULATING AND COMPARING ARRAYS***"
      ]
    },
    {
      "cell_type": "markdown",
      "metadata": {
        "id": "TUO6IDwI9qVc"
      },
      "source": [
        "### **1. ARITHMETIC**"
      ]
    },
    {
      "cell_type": "code",
      "execution_count": null,
      "metadata": {
        "colab": {
          "base_uri": "https://localhost:8080/"
        },
        "id": "37jVuuPG9f-o",
        "outputId": "bbbc7e3e-eada-4d87-8580-975ea6d5c718"
      },
      "outputs": [
        {
          "output_type": "execute_result",
          "data": {
            "text/plain": [
              "array([1, 2, 3])"
            ]
          },
          "metadata": {},
          "execution_count": 39
        }
      ],
      "source": [
        "arr1 = np.array([1, 2, 3])\n",
        "arr1"
      ]
    },
    {
      "cell_type": "code",
      "execution_count": null,
      "metadata": {
        "colab": {
          "base_uri": "https://localhost:8080/"
        },
        "id": "L099BDyu9zCi",
        "outputId": "d27833f8-5adf-4614-fa52-8a230ddfca99"
      },
      "outputs": [
        {
          "output_type": "execute_result",
          "data": {
            "text/plain": [
              "array([1, 1, 1])"
            ]
          },
          "metadata": {},
          "execution_count": 40
        }
      ],
      "source": [
        "ones = np.ones(3, dtype = int)\n",
        "ones"
      ]
    },
    {
      "cell_type": "code",
      "execution_count": null,
      "metadata": {
        "colab": {
          "base_uri": "https://localhost:8080/"
        },
        "id": "-JiWpy2l91b_",
        "outputId": "fb9e1945-cc34-4fcc-ed29-24793ee93a96"
      },
      "outputs": [
        {
          "output_type": "execute_result",
          "data": {
            "text/plain": [
              "array([2, 3, 4])"
            ]
          },
          "metadata": {},
          "execution_count": 41
        }
      ],
      "source": [
        "arr1 + ones"
      ]
    },
    {
      "cell_type": "code",
      "execution_count": null,
      "metadata": {
        "id": "V6rBBEGE94jQ"
      },
      "outputs": [],
      "source": [
        "random_array_1 = np.random.randint(10, 20 , size = (3, 3))\n",
        "random_array_2 = np.random.randint(100, 200, size = (3, 3))"
      ]
    },
    {
      "cell_type": "code",
      "source": [
        "random_array_1"
      ],
      "metadata": {
        "colab": {
          "base_uri": "https://localhost:8080/"
        },
        "id": "x71xsfUfX0YR",
        "outputId": "c676d63b-3442-41ce-e36f-ee9d4e1db61b"
      },
      "execution_count": null,
      "outputs": [
        {
          "output_type": "execute_result",
          "data": {
            "text/plain": [
              "array([[10, 12, 12],\n",
              "       [18, 19, 16],\n",
              "       [16, 19, 14]])"
            ]
          },
          "metadata": {},
          "execution_count": 48
        }
      ]
    },
    {
      "cell_type": "code",
      "source": [
        "random_array_2"
      ],
      "metadata": {
        "colab": {
          "base_uri": "https://localhost:8080/"
        },
        "id": "vq2wPnKRX2it",
        "outputId": "365ae73c-2b19-4539-f47d-67f226d29bf9"
      },
      "execution_count": null,
      "outputs": [
        {
          "output_type": "execute_result",
          "data": {
            "text/plain": [
              "array([[120, 125, 197],\n",
              "       [154, 171, 172],\n",
              "       [180, 193, 164]])"
            ]
          },
          "metadata": {},
          "execution_count": 49
        }
      ]
    },
    {
      "cell_type": "code",
      "source": [
        "random_array_2 * random_array_1"
      ],
      "metadata": {
        "colab": {
          "base_uri": "https://localhost:8080/"
        },
        "id": "ZcPYZDexX37S",
        "outputId": "a914de71-0080-4e73-e2e1-2c12883eed5d"
      },
      "execution_count": null,
      "outputs": [
        {
          "output_type": "execute_result",
          "data": {
            "text/plain": [
              "array([[1200, 1500, 2364],\n",
              "       [2772, 3249, 2752],\n",
              "       [2880, 3667, 2296]])"
            ]
          },
          "metadata": {},
          "execution_count": 54
        }
      ]
    },
    {
      "cell_type": "code",
      "source": [
        "random_array_1 ** 2 # np.square(random_array_1)"
      ],
      "metadata": {
        "colab": {
          "base_uri": "https://localhost:8080/"
        },
        "id": "YUlh8kaiX9ZO",
        "outputId": "fa1fedb3-8ebf-468f-8d46-38dfdd4eeeea"
      },
      "execution_count": null,
      "outputs": [
        {
          "output_type": "execute_result",
          "data": {
            "text/plain": [
              "array([[100, 144, 144],\n",
              "       [324, 361, 256],\n",
              "       [256, 361, 196]])"
            ]
          },
          "metadata": {},
          "execution_count": 58
        }
      ]
    },
    {
      "cell_type": "markdown",
      "source": [
        "### **NP buildt in methods to do what we did**"
      ],
      "metadata": {
        "id": "eQFFmb6-Yjyr"
      }
    },
    {
      "cell_type": "code",
      "source": [
        "np.square(random_array_1)"
      ],
      "metadata": {
        "colab": {
          "base_uri": "https://localhost:8080/"
        },
        "id": "H7yneg9-YXxG",
        "outputId": "09d82466-d4be-458f-b15d-575f7242b37c"
      },
      "execution_count": null,
      "outputs": [
        {
          "output_type": "execute_result",
          "data": {
            "text/plain": [
              "array([[100, 144, 144],\n",
              "       [324, 361, 256],\n",
              "       [256, 361, 196]])"
            ]
          },
          "metadata": {},
          "execution_count": 59
        }
      ]
    },
    {
      "cell_type": "code",
      "source": [
        "np.add(random_array_1, random_array_2)"
      ],
      "metadata": {
        "colab": {
          "base_uri": "https://localhost:8080/"
        },
        "id": "S425x6zpYiLS",
        "outputId": "408bb8c2-24cc-4a1c-ab9f-975799b3a452"
      },
      "execution_count": null,
      "outputs": [
        {
          "output_type": "execute_result",
          "data": {
            "text/plain": [
              "array([[130, 137, 209],\n",
              "       [172, 190, 188],\n",
              "       [196, 212, 178]])"
            ]
          },
          "metadata": {},
          "execution_count": 60
        }
      ]
    },
    {
      "cell_type": "code",
      "source": [
        "np.exp(random_array_1)"
      ],
      "metadata": {
        "colab": {
          "base_uri": "https://localhost:8080/"
        },
        "id": "y1IrPkI_YtHz",
        "outputId": "8a4a8d7d-1bcd-4972-91cc-00c4b3e74d29"
      },
      "execution_count": null,
      "outputs": [
        {
          "output_type": "execute_result",
          "data": {
            "text/plain": [
              "array([[2.20264658e+04, 1.62754791e+05, 1.62754791e+05],\n",
              "       [6.56599691e+07, 1.78482301e+08, 8.88611052e+06],\n",
              "       [8.88611052e+06, 1.78482301e+08, 1.20260428e+06]])"
            ]
          },
          "metadata": {},
          "execution_count": 61
        }
      ]
    },
    {
      "cell_type": "code",
      "source": [
        "np.log(np.ones(shape = (3, 3),  dtype = int))"
      ],
      "metadata": {
        "colab": {
          "base_uri": "https://localhost:8080/"
        },
        "id": "xhhEHY5_YzaZ",
        "outputId": "5d8148ce-600f-48f6-c057-783151baeeb7"
      },
      "execution_count": null,
      "outputs": [
        {
          "output_type": "execute_result",
          "data": {
            "text/plain": [
              "array([[0., 0., 0.],\n",
              "       [0., 0., 0.],\n",
              "       [0., 0., 0.]])"
            ]
          },
          "metadata": {},
          "execution_count": 62
        }
      ]
    },
    {
      "cell_type": "code",
      "source": [
        "np.log(np.ones(shape =  (3, 3), dtype = int)) == np.zeros(shape = (3, 3))"
      ],
      "metadata": {
        "colab": {
          "base_uri": "https://localhost:8080/"
        },
        "id": "DGQG5qfiY73M",
        "outputId": "8c0ea404-8f8b-4159-b741-6d272664a036"
      },
      "execution_count": null,
      "outputs": [
        {
          "output_type": "execute_result",
          "data": {
            "text/plain": [
              "array([[ True,  True,  True],\n",
              "       [ True,  True,  True],\n",
              "       [ True,  True,  True]])"
            ]
          },
          "metadata": {},
          "execution_count": 63
        }
      ]
    },
    {
      "cell_type": "markdown",
      "source": [
        "## **4. AGGREGATION**\n",
        "--> PERFORMING THE SAME OPERATION ON A NUMBER OF THINGS"
      ],
      "metadata": {
        "id": "rx0YaaTMZDuU"
      }
    },
    {
      "cell_type": "code",
      "source": [
        "a1"
      ],
      "metadata": {
        "colab": {
          "base_uri": "https://localhost:8080/"
        },
        "id": "TJi2TioZZSFJ",
        "outputId": "f5c7c308-3a10-41c5-fccb-2c015321c1d4"
      },
      "execution_count": null,
      "outputs": [
        {
          "output_type": "execute_result",
          "data": {
            "text/plain": [
              "array([1, 2, 3])"
            ]
          },
          "metadata": {},
          "execution_count": 67
        }
      ]
    },
    {
      "cell_type": "code",
      "source": [
        "sum(a1)"
      ],
      "metadata": {
        "colab": {
          "base_uri": "https://localhost:8080/"
        },
        "id": "CS7RHQbWZU_S",
        "outputId": "a482d897-57ed-4775-cd49-76809983720a"
      },
      "execution_count": null,
      "outputs": [
        {
          "output_type": "execute_result",
          "data": {
            "text/plain": [
              "6"
            ]
          },
          "metadata": {},
          "execution_count": 68
        }
      ]
    },
    {
      "cell_type": "code",
      "source": [
        "np.sum(a1)"
      ],
      "metadata": {
        "colab": {
          "base_uri": "https://localhost:8080/"
        },
        "id": "AVyLLUOtZbmm",
        "outputId": "48fdc2ce-61fc-4951-f7ef-cacf5825f682"
      },
      "execution_count": null,
      "outputs": [
        {
          "output_type": "execute_result",
          "data": {
            "text/plain": [
              "6"
            ]
          },
          "metadata": {},
          "execution_count": 69
        }
      ]
    },
    {
      "cell_type": "code",
      "source": [
        "np.sum(random_array_1)"
      ],
      "metadata": {
        "colab": {
          "base_uri": "https://localhost:8080/"
        },
        "id": "ZY3MLGFbZdAK",
        "outputId": "463d3bcb-aa8e-4ed2-fa13-77832d39a2e8"
      },
      "execution_count": null,
      "outputs": [
        {
          "output_type": "execute_result",
          "data": {
            "text/plain": [
              "136"
            ]
          },
          "metadata": {},
          "execution_count": 71
        }
      ]
    },
    {
      "cell_type": "code",
      "source": [
        "sum(random_array_1)"
      ],
      "metadata": {
        "colab": {
          "base_uri": "https://localhost:8080/"
        },
        "id": "PBlpVDSsZg1J",
        "outputId": "86d91017-a972-4588-a305-ac5e731323bd"
      },
      "execution_count": null,
      "outputs": [
        {
          "output_type": "execute_result",
          "data": {
            "text/plain": [
              "array([44, 50, 42])"
            ]
          },
          "metadata": {},
          "execution_count": 72
        }
      ]
    },
    {
      "cell_type": "code",
      "source": [
        "random_array_1"
      ],
      "metadata": {
        "colab": {
          "base_uri": "https://localhost:8080/"
        },
        "id": "TmY_YjHcZktZ",
        "outputId": "0483a5b2-f8bc-4123-f916-169e57e66ae6"
      },
      "execution_count": null,
      "outputs": [
        {
          "output_type": "execute_result",
          "data": {
            "text/plain": [
              "array([[10, 12, 12],\n",
              "       [18, 19, 16],\n",
              "       [16, 19, 14]])"
            ]
          },
          "metadata": {},
          "execution_count": 73
        }
      ]
    },
    {
      "cell_type": "markdown",
      "source": [
        "### CREATING A MASSIVE NUMPY ARRAY AND SEE diffrence in times of python and numpy functions"
      ],
      "metadata": {
        "id": "b7Q4BdzGZtJ3"
      }
    },
    {
      "cell_type": "code",
      "source": [
        "massive_array = np.random.random(10000)\n",
        "massive_array.size"
      ],
      "metadata": {
        "colab": {
          "base_uri": "https://localhost:8080/"
        },
        "id": "Y74JItLwZzF7",
        "outputId": "b4d59de7-ebb6-4b41-9658-f2634d0c41c8"
      },
      "execution_count": null,
      "outputs": [
        {
          "output_type": "execute_result",
          "data": {
            "text/plain": [
              "10000"
            ]
          },
          "metadata": {},
          "execution_count": 74
        }
      ]
    },
    {
      "cell_type": "code",
      "source": [
        "massive_array[:30]"
      ],
      "metadata": {
        "colab": {
          "base_uri": "https://localhost:8080/"
        },
        "id": "Gl132xOzZ3p2",
        "outputId": "4f2f6f8a-e0ff-4c80-d2ce-bf5cf0d86e3e"
      },
      "execution_count": null,
      "outputs": [
        {
          "output_type": "execute_result",
          "data": {
            "text/plain": [
              "array([0.88132951, 0.69528996, 0.2661727 , 0.9099638 , 0.57961836,\n",
              "       0.35968689, 0.85263424, 0.24617921, 0.78044411, 0.04550966,\n",
              "       0.88504119, 0.27642122, 0.5809244 , 0.91066226, 0.99259105,\n",
              "       0.06222404, 0.92848144, 0.51716061, 0.94538209, 0.54693108,\n",
              "       0.26416163, 0.64721348, 0.4629854 , 0.63100715, 0.5112363 ,\n",
              "       0.22238089, 0.73449539, 0.79966137, 0.87662166, 0.3026238 ])"
            ]
          },
          "metadata": {},
          "execution_count": 78
        }
      ]
    },
    {
      "cell_type": "code",
      "source": [
        "%timeit sum(massive_array) # PYTHON SUM sum()\n",
        "%timeit np.sum(massive_array) # NUMPY SUM np.sum()"
      ],
      "metadata": {
        "colab": {
          "base_uri": "https://localhost:8080/"
        },
        "id": "I_0yKsfsZ4ZM",
        "outputId": "49792894-0161-4ab2-8a9a-849c30199eca"
      },
      "execution_count": null,
      "outputs": [
        {
          "output_type": "stream",
          "name": "stdout",
          "text": [
            "976 µs ± 7.4 µs per loop (mean ± std. dev. of 7 runs, 100 loops each)\n",
            "9.78 µs ± 2.28 µs per loop (mean ± std. dev. of 7 runs, 100000 loops each)\n"
          ]
        }
      ]
    },
    {
      "cell_type": "markdown",
      "source": [
        "numpy is more than 100 times faster than the python sums. So for numpy methods and numerical calculations, always use numpy versions of aggregation"
      ],
      "metadata": {
        "id": "OsTE517RaUpU"
      }
    },
    {
      "cell_type": "code",
      "source": [
        "a2"
      ],
      "metadata": {
        "colab": {
          "base_uri": "https://localhost:8080/"
        },
        "id": "LRMdRXh6aDQv",
        "outputId": "3288481c-98db-4d35-ddb0-4cc0f030bdb0"
      },
      "execution_count": null,
      "outputs": [
        {
          "output_type": "execute_result",
          "data": {
            "text/plain": [
              "array([[1. , 2. , 3.3],\n",
              "       [4. , 5. , 6.5]])"
            ]
          },
          "metadata": {},
          "execution_count": 81
        }
      ]
    },
    {
      "cell_type": "code",
      "source": [
        "# MEAN\n",
        "np.mean(a2)"
      ],
      "metadata": {
        "colab": {
          "base_uri": "https://localhost:8080/"
        },
        "id": "P8UjLn4Iaeim",
        "outputId": "97784e21-07d2-44b7-c910-15c48c873ed8"
      },
      "execution_count": null,
      "outputs": [
        {
          "output_type": "execute_result",
          "data": {
            "text/plain": [
              "3.6333333333333333"
            ]
          },
          "metadata": {},
          "execution_count": 88
        }
      ]
    },
    {
      "cell_type": "markdown",
      "source": [
        "## ***MEAN, STANDARD DEVIATION, VARIANCE***"
      ],
      "metadata": {
        "id": "AD0ERp1sbJz1"
      }
    },
    {
      "cell_type": "code",
      "source": [
        "np.average(a2) == np.mean(a2)"
      ],
      "metadata": {
        "colab": {
          "base_uri": "https://localhost:8080/"
        },
        "id": "_HbKwul0af3s",
        "outputId": "f0f5ac28-28f6-4e3f-8223-b9d4029db3a5"
      },
      "execution_count": null,
      "outputs": [
        {
          "output_type": "execute_result",
          "data": {
            "text/plain": [
              "True"
            ]
          },
          "metadata": {},
          "execution_count": 89
        }
      ]
    },
    {
      "cell_type": "code",
      "source": [
        "# STANDARD DEVIATION = hOW SPREAD OUT A GROUP OF NUMBERS IS FROM A MEAN\n",
        "np.std(a2)"
      ],
      "metadata": {
        "colab": {
          "base_uri": "https://localhost:8080/"
        },
        "id": "gT8r8R6tag5V",
        "outputId": "2a818613-55ab-4384-e136-f5c0c1d8f5b0"
      },
      "execution_count": null,
      "outputs": [
        {
          "output_type": "execute_result",
          "data": {
            "text/plain": [
              "1.8226964152656422"
            ]
          },
          "metadata": {},
          "execution_count": 93
        }
      ]
    },
    {
      "cell_type": "code",
      "source": [
        "# VARIANCE = MEASURE OF AVERAGE DEGREE TO WHICH EACH NUMBER IS DIFFRENT TO THE MEAN\n",
        "# HIGHER VARIANCE --> WIDER RANGE OF NUMBERS\n",
        "# LOWER VARIANCE --> LOWER RANGE OF NUMBERS\n",
        "np.var(a2)"
      ],
      "metadata": {
        "colab": {
          "base_uri": "https://localhost:8080/"
        },
        "id": "P0ry7q2yapwC",
        "outputId": "995a11fd-bd48-4d78-a411-8c6cdbeadf69"
      },
      "execution_count": null,
      "outputs": [
        {
          "output_type": "execute_result",
          "data": {
            "text/plain": [
              "3.3222222222222224"
            ]
          },
          "metadata": {},
          "execution_count": 94
        }
      ]
    },
    {
      "cell_type": "code",
      "source": [
        "# STANDARD DEVIATION IS THE SQUARE ROOT OF VARIANCE\n",
        "np.std(a2) == np.sqrt(np.var(a2))"
      ],
      "metadata": {
        "colab": {
          "base_uri": "https://localhost:8080/"
        },
        "id": "ID6Qee37atSB",
        "outputId": "4a7e37f1-670a-4c15-9655-ab75a269cbc8"
      },
      "execution_count": null,
      "outputs": [
        {
          "output_type": "execute_result",
          "data": {
            "text/plain": [
              "True"
            ]
          },
          "metadata": {},
          "execution_count": 95
        }
      ]
    },
    {
      "cell_type": "code",
      "source": [
        "# demo on STD and VARIANCE\n",
        "high_var_array = np.array([1, 100, 200, 1000, 5000]) # MORE UNEVE AND HIGHER RANGE OF NUMBERS\n",
        "low_var_array = np.array([2, 4, 6, 8, 10]) # LESSER UNEVEN AND MORE RANGE OF NUMBERS\n",
        "\n",
        "high_var_mean = np.mean(high_var_array)\n",
        "low_var_mean = np.mean(low_var_array)\n",
        "\n",
        "high_var_mean, low_var_mean"
      ],
      "metadata": {
        "colab": {
          "base_uri": "https://localhost:8080/"
        },
        "id": "-rEp_KQ9bHuh",
        "outputId": "bb40b590-53ab-4b34-8bd9-6d69bea66333"
      },
      "execution_count": null,
      "outputs": [
        {
          "output_type": "execute_result",
          "data": {
            "text/plain": [
              "(1260.2, 6.0)"
            ]
          },
          "metadata": {},
          "execution_count": 102
        }
      ]
    },
    {
      "cell_type": "code",
      "source": [
        "high_var_variance = np.var(high_var_array)\n",
        "low_var_variance = np.var(low_var_array)\n",
        "\n",
        "# HIGHER VARIANCE --> WIDER RANGE OF NUMBERS\n",
        "# LOWER VARIANCE --> LOWER RANGE OF NUMBERS\n",
        "\n",
        "high_var_variance, low_var_variance"
      ],
      "metadata": {
        "colab": {
          "base_uri": "https://localhost:8080/"
        },
        "id": "xKdGphNzbrQ8",
        "outputId": "0664ac0f-9007-41ca-ef66-bcfd2d7c2841"
      },
      "execution_count": null,
      "outputs": [
        {
          "output_type": "execute_result",
          "data": {
            "text/plain": [
              "(3621896.16, 8.0)"
            ]
          },
          "metadata": {},
          "execution_count": 103
        }
      ]
    },
    {
      "cell_type": "code",
      "source": [
        "(high_var_variance - high_var_mean), (low_var_variance - low_var_mean) # MEASURE OF HOW FAR THE NUMBERS ARE ON AVERAGE FAR FROM THE MEAN"
      ],
      "metadata": {
        "colab": {
          "base_uri": "https://localhost:8080/"
        },
        "id": "tFg3bQa8b2Ni",
        "outputId": "b86a6938-3958-41c2-d0b1-6456984c7080"
      },
      "execution_count": null,
      "outputs": [
        {
          "output_type": "execute_result",
          "data": {
            "text/plain": [
              "(3620635.96, 2.0)"
            ]
          },
          "metadata": {},
          "execution_count": 104
        }
      ]
    },
    {
      "cell_type": "code",
      "source": [
        "%matplotlib inline\n",
        "import matplotlib.pyplot as plt\n",
        "plt.hist(high_var_array)\n",
        "plt.show()"
      ],
      "metadata": {
        "colab": {
          "base_uri": "https://localhost:8080/",
          "height": 430
        },
        "id": "Nek4nEdXb6IL",
        "outputId": "7d32bc8a-7c33-45c9-b31d-8d735e1e8349"
      },
      "execution_count": null,
      "outputs": [
        {
          "output_type": "display_data",
          "data": {
            "text/plain": [
              "<Figure size 640x480 with 1 Axes>"
            ],
            "image/png": "[encoded data removed]"
          },
          "metadata": {}
        }
      ]
    },
    {
      "cell_type": "code",
      "source": [
        "plt.hist(low_var_array)\n",
        "plt.show()"
      ],
      "metadata": {
        "colab": {
          "base_uri": "https://localhost:8080/",
          "height": 430
        },
        "id": "4AglEC3Jcj_v",
        "outputId": "5ffe7a24-b20a-4e3c-aa97-ba31cfd8b5b0"
      },
      "execution_count": null,
      "outputs": [
        {
          "output_type": "display_data",
          "data": {
            "text/plain": [
              "<Figure size 640x480 with 1 Axes>"
            ],
            "image/png": "[encoded data removed]"
          },
          "metadata": {}
        }
      ]
    },
    {
      "cell_type": "markdown",
      "source": [
        "# **RESHAPING AND TRANSPOSING**"
      ],
      "metadata": {
        "id": "Rgqkcj9BcnUb"
      }
    },
    {
      "cell_type": "code",
      "source": [
        "a2"
      ],
      "metadata": {
        "colab": {
          "base_uri": "https://localhost:8080/"
        },
        "id": "3zk8gewSdW7h",
        "outputId": "f1970cd6-952f-444e-9de4-aaab27084159"
      },
      "execution_count": null,
      "outputs": [
        {
          "output_type": "execute_result",
          "data": {
            "text/plain": [
              "array([[1. , 2. , 3.3],\n",
              "       [4. , 5. , 6.5]])"
            ]
          },
          "metadata": {},
          "execution_count": 107
        }
      ]
    },
    {
      "cell_type": "code",
      "source": [
        "a2.shape"
      ],
      "metadata": {
        "colab": {
          "base_uri": "https://localhost:8080/"
        },
        "id": "cSCtQyUydcX6",
        "outputId": "397d0e42-045e-4ebb-e7b3-48ccb622ede5"
      },
      "execution_count": null,
      "outputs": [
        {
          "output_type": "execute_result",
          "data": {
            "text/plain": [
              "(2, 3)"
            ]
          },
          "metadata": {},
          "execution_count": 108
        }
      ]
    },
    {
      "cell_type": "code",
      "source": [
        "a3"
      ],
      "metadata": {
        "colab": {
          "base_uri": "https://localhost:8080/"
        },
        "id": "op85tI4BddXw",
        "outputId": "370029a3-c681-45a1-b42f-d63836bc104f"
      },
      "execution_count": null,
      "outputs": [
        {
          "output_type": "execute_result",
          "data": {
            "text/plain": [
              "array([[[ 1,  2,  3],\n",
              "        [ 4,  5,  6],\n",
              "        [ 7,  8,  9]],\n",
              "\n",
              "       [[10, 11, 12],\n",
              "        [13, 14, 15],\n",
              "        [16, 17, 18]]])"
            ]
          },
          "metadata": {},
          "execution_count": 109
        }
      ]
    },
    {
      "cell_type": "code",
      "source": [
        "a3.shape"
      ],
      "metadata": {
        "colab": {
          "base_uri": "https://localhost:8080/"
        },
        "id": "l3l4hRqMdgX8",
        "outputId": "7826f394-70c1-46d2-9468-86a7dc9e919a"
      },
      "execution_count": null,
      "outputs": [
        {
          "output_type": "execute_result",
          "data": {
            "text/plain": [
              "(2, 3, 3)"
            ]
          },
          "metadata": {},
          "execution_count": 110
        }
      ]
    },
    {
      "cell_type": "code",
      "source": [
        "# a2*a3\n",
        "# SHOWS --> ValueError: operands could not be broadcast together with shapes (2,3) (2,3,3)\n",
        "# WE CAN SHAPE THESE ARRAYS SO AS TO MULTIPLY THEM"
      ],
      "metadata": {
        "id": "1Ot3cR-cdg-D"
      },
      "execution_count": null,
      "outputs": []
    },
    {
      "cell_type": "code",
      "source": [
        "# reshaping a2\n",
        "a2_reshaped = a2.reshape(2, 3, 1)\n",
        "a2_reshaped.shape"
      ],
      "metadata": {
        "colab": {
          "base_uri": "https://localhost:8080/"
        },
        "id": "vvp07aP8di3O",
        "outputId": "a334d324-a84f-4289-c74e-462c9bdc138c"
      },
      "execution_count": null,
      "outputs": [
        {
          "output_type": "execute_result",
          "data": {
            "text/plain": [
              "(2, 3, 1)"
            ]
          },
          "metadata": {},
          "execution_count": 120
        }
      ]
    },
    {
      "cell_type": "code",
      "source": [
        "a2_reshaped"
      ],
      "metadata": {
        "colab": {
          "base_uri": "https://localhost:8080/"
        },
        "id": "_Nx6eg8be3i2",
        "outputId": "30b7f667-cffc-4698-8478-9143b8ac0590"
      },
      "execution_count": null,
      "outputs": [
        {
          "output_type": "execute_result",
          "data": {
            "text/plain": [
              "array([[[1. ],\n",
              "        [2. ],\n",
              "        [3.3]],\n",
              "\n",
              "       [[4. ],\n",
              "        [5. ],\n",
              "        [6.5]]])"
            ]
          },
          "metadata": {},
          "execution_count": 123
        }
      ]
    },
    {
      "cell_type": "code",
      "source": [
        "a2_reshaped * a3"
      ],
      "metadata": {
        "colab": {
          "base_uri": "https://localhost:8080/"
        },
        "id": "WhZqx9h6eBQn",
        "outputId": "2c3be83b-0591-45c2-f3b7-d9e9497f4562"
      },
      "execution_count": null,
      "outputs": [
        {
          "output_type": "execute_result",
          "data": {
            "text/plain": [
              "array([[[  1. ,   2. ,   3. ],\n",
              "        [  8. ,  10. ,  12. ],\n",
              "        [ 23.1,  26.4,  29.7]],\n",
              "\n",
              "       [[ 40. ,  44. ,  48. ],\n",
              "        [ 65. ,  70. ,  75. ],\n",
              "        [104. , 110.5, 117. ]]])"
            ]
          },
          "metadata": {},
          "execution_count": 122
        }
      ]
    },
    {
      "cell_type": "markdown",
      "source": [
        "### **TRANSPOSE**"
      ],
      "metadata": {
        "id": "DVpBX5wPfOIb"
      }
    },
    {
      "cell_type": "code",
      "source": [
        "a2.T"
      ],
      "metadata": {
        "colab": {
          "base_uri": "https://localhost:8080/"
        },
        "id": "Hm01podiezqv",
        "outputId": "8c12568d-da7a-4093-e20f-663fefea38a6"
      },
      "execution_count": null,
      "outputs": [
        {
          "output_type": "execute_result",
          "data": {
            "text/plain": [
              "array([[1. , 4. ],\n",
              "       [2. , 5. ],\n",
              "       [3.3, 6.5]])"
            ]
          },
          "metadata": {},
          "execution_count": 124
        }
      ]
    },
    {
      "cell_type": "code",
      "source": [
        "a2"
      ],
      "metadata": {
        "colab": {
          "base_uri": "https://localhost:8080/"
        },
        "id": "x5JScm48fLty",
        "outputId": "a150003d-492b-4112-89bb-352c715ef1bb"
      },
      "execution_count": null,
      "outputs": [
        {
          "output_type": "execute_result",
          "data": {
            "text/plain": [
              "array([[1. , 2. , 3.3],\n",
              "       [4. , 5. , 6.5]])"
            ]
          },
          "metadata": {},
          "execution_count": 126
        }
      ]
    },
    {
      "cell_type": "markdown",
      "source": [
        "## **DOT PRODUCT --> MULTIPLICATION OF MATRIX**"
      ],
      "metadata": {
        "id": "uK6N7FtPfMpC"
      }
    },
    {
      "cell_type": "code",
      "source": [
        "np.random.seed(0)\n",
        "mat1 = np.random.randint(10, size = (5, 3))\n",
        "mat2 = np.random.randint(10, size = (5, 3))\n",
        "\n",
        "mat1"
      ],
      "metadata": {
        "colab": {
          "base_uri": "https://localhost:8080/"
        },
        "id": "d0svJf8ngZAX",
        "outputId": "26a8a1f8-00fb-4860-b09d-8a1e02a42ccb"
      },
      "execution_count": null,
      "outputs": [
        {
          "output_type": "execute_result",
          "data": {
            "text/plain": [
              "array([[5, 0, 3],\n",
              "       [3, 7, 9],\n",
              "       [3, 5, 2],\n",
              "       [4, 7, 6],\n",
              "       [8, 8, 1]])"
            ]
          },
          "metadata": {},
          "execution_count": 127
        }
      ]
    },
    {
      "cell_type": "code",
      "source": [
        "mat2"
      ],
      "metadata": {
        "colab": {
          "base_uri": "https://localhost:8080/"
        },
        "id": "SaRSFBkigjWg",
        "outputId": "e507e7ac-86a2-46e1-b22c-efbb45dc2df4"
      },
      "execution_count": null,
      "outputs": [
        {
          "output_type": "execute_result",
          "data": {
            "text/plain": [
              "array([[6, 7, 7],\n",
              "       [8, 1, 5],\n",
              "       [9, 8, 9],\n",
              "       [4, 3, 0],\n",
              "       [3, 5, 0]])"
            ]
          },
          "metadata": {},
          "execution_count": 128
        }
      ]
    },
    {
      "cell_type": "code",
      "source": [
        "mat2.T"
      ],
      "metadata": {
        "colab": {
          "base_uri": "https://localhost:8080/"
        },
        "id": "eM5OoqGAgxZp",
        "outputId": "b132d6a6-9a5a-4899-b7b8-611bcbec8ff1"
      },
      "execution_count": null,
      "outputs": [
        {
          "output_type": "execute_result",
          "data": {
            "text/plain": [
              "array([[6, 8, 9, 4, 3],\n",
              "       [7, 1, 8, 3, 5],\n",
              "       [7, 5, 9, 0, 0]])"
            ]
          },
          "metadata": {},
          "execution_count": 131
        }
      ]
    },
    {
      "cell_type": "code",
      "source": [
        "np.dot(mat1, mat2.T)"
      ],
      "metadata": {
        "colab": {
          "base_uri": "https://localhost:8080/"
        },
        "id": "bRex-AiPgjpk",
        "outputId": "aff2aed1-9880-4dad-c5b1-02a45279687d"
      },
      "execution_count": null,
      "outputs": [
        {
          "output_type": "execute_result",
          "data": {
            "text/plain": [
              "array([[ 51,  55,  72,  20,  15],\n",
              "       [130,  76, 164,  33,  44],\n",
              "       [ 67,  39,  85,  27,  34],\n",
              "       [115,  69, 146,  37,  47],\n",
              "       [111,  77, 145,  56,  64]])"
            ]
          },
          "metadata": {},
          "execution_count": 130
        }
      ]
    },
    {
      "cell_type": "markdown",
      "source": [
        "## **SORTING ARRAYS**"
      ],
      "metadata": {
        "id": "Zl6qN4u8gmd5"
      }
    },
    {
      "cell_type": "code",
      "source": [
        "random_array = np.random.randint(10, size = (3, 5))\n",
        "random_array"
      ],
      "metadata": {
        "colab": {
          "base_uri": "https://localhost:8080/"
        },
        "id": "ir_cL6oYkALs",
        "outputId": "9756b131-3b3e-438b-8084-2cbe5ed3e55a"
      },
      "execution_count": null,
      "outputs": [
        {
          "output_type": "execute_result",
          "data": {
            "text/plain": [
              "array([[2, 3, 8, 1, 3],\n",
              "       [3, 3, 7, 0, 1],\n",
              "       [9, 9, 0, 4, 7]])"
            ]
          },
          "metadata": {},
          "execution_count": 132
        }
      ]
    },
    {
      "cell_type": "code",
      "source": [
        "np.sort(random_array) # SORTS EVERY ROW"
      ],
      "metadata": {
        "colab": {
          "base_uri": "https://localhost:8080/"
        },
        "id": "hPD8r0qBkLhs",
        "outputId": "31c73c91-40f0-4abc-8be8-755c568cc48e"
      },
      "execution_count": null,
      "outputs": [
        {
          "output_type": "execute_result",
          "data": {
            "text/plain": [
              "array([[1, 2, 3, 3, 8],\n",
              "       [0, 1, 3, 3, 7],\n",
              "       [0, 4, 7, 9, 9]])"
            ]
          },
          "metadata": {},
          "execution_count": 135
        }
      ]
    },
    {
      "cell_type": "code",
      "source": [
        "np.argsort(random_array) # RETURNS THE INDICES THAT SORT"
      ],
      "metadata": {
        "colab": {
          "base_uri": "https://localhost:8080/"
        },
        "id": "QWrKdxs1kPlZ",
        "outputId": "8deef5c8-af21-40ea-881c-ad9c132e7357"
      },
      "execution_count": null,
      "outputs": [
        {
          "output_type": "execute_result",
          "data": {
            "text/plain": [
              "array([[3, 0, 1, 4, 2],\n",
              "       [3, 4, 0, 1, 2],\n",
              "       [2, 3, 4, 0, 1]])"
            ]
          },
          "metadata": {},
          "execution_count": 136
        }
      ]
    },
    {
      "cell_type": "code",
      "source": [
        "new_arr = np.array([1000, 0, 100])\n",
        "np.argmin(new_arr), np.argmax(new_arr)"
      ],
      "metadata": {
        "colab": {
          "base_uri": "https://localhost:8080/"
        },
        "id": "kGrN4oK-kdzc",
        "outputId": "5dc81acb-ed36-4622-eb25-3331c61f3a9d"
      },
      "execution_count": null,
      "outputs": [
        {
          "output_type": "execute_result",
          "data": {
            "text/plain": [
              "(1, 0)"
            ]
          },
          "metadata": {},
          "execution_count": 137
        }
      ]
    },
    {
      "cell_type": "code",
      "source": [
        "np.argmin(random_array)"
      ],
      "metadata": {
        "colab": {
          "base_uri": "https://localhost:8080/"
        },
        "id": "6vqS9BU9kwo9",
        "outputId": "18be353d-8387-45ab-a8e6-e05c37a94bba"
      },
      "execution_count": null,
      "outputs": [
        {
          "output_type": "execute_result",
          "data": {
            "text/plain": [
              "8"
            ]
          },
          "metadata": {},
          "execution_count": 138
        }
      ]
    },
    {
      "cell_type": "code",
      "source": [],
      "metadata": {
        "id": "g5DBcJYVlPQ3"
      },
      "execution_count": null,
      "outputs": []
    }
  ],
  "metadata": {
    "colab": {
      "provenance": []
    },
    "kernelspec": {
      "display_name": "Python 3",
      "name": "python3"
    },
    "language_info": {
      "name": "python"
    }
  },
  "nbformat": 4,
  "nbformat_minor": 0
}